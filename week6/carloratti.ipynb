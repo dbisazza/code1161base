{
 "cells": [
  {
   "cell_type": "code",
   "execution_count": 122,
   "metadata": {
    "collapsed": true,
    "deletable": true,
    "editable": true,
    "slideshow": {
     "slide_type": "skip"
    }
   },
   "outputs": [],
   "source": [
    "from IPython.display import HTML,Image,display,Javascript\n",
    "from ipywidgets import widgets"
   ]
  },
  {
   "cell_type": "code",
   "execution_count": 123,
   "metadata": {
    "collapsed": false,
    "deletable": true,
    "editable": true,
    "slideshow": {
     "slide_type": "slide"
    }
   },
   "outputs": [
    {
     "data": {
      "text/html": [
       "\n",
       "<center>\n",
       "<img src=\"https://media.giphy.com/media/3o7bu5BGEPKaqYUGNW/giphy.gif\" alt=\"Drawing\" style=\"width: 550px;\"/>\n",
       "</center>"
      ],
      "text/plain": [
       "<IPython.core.display.HTML object>"
      ]
     },
     "execution_count": 123,
     "metadata": {},
     "output_type": "execute_result"
    }
   ],
   "source": [
    "HTML('''\n",
    "<center>\n",
    "<img src=\"https://media.giphy.com/media/3o7bu5BGEPKaqYUGNW/giphy.gif\" alt=\"Drawing\" style=\"width: 550px;\"/>\n",
    "</center>''')"
   ]
  },
  {
   "cell_type": "code",
   "execution_count": 124,
   "metadata": {
    "collapsed": false,
    "deletable": true,
    "editable": true,
    "slideshow": {
     "slide_type": "slide"
    }
   },
   "outputs": [
    {
     "data": {
      "text/html": [
       "\n",
       "<h1 style=\"font-family:helvetica;\"> Digital Water Pavilion </h1> &emsp;\n",
       "<h3  style=\"font-family:helvetica;\"> Client: Zaragoza Expo 2008 </h3>\n",
       "<h3  style=\"font-family:helvetica;\"> Location: Spain </h3>\n",
       "<h3  style=\"font-family:helvetica;\"> Architect: Carlo Ratti Associati </h3>\n",
       "\n",
       "<img src=\"http://assets.inhabitat.com/files/dwp_3.jpg\", style=\"width:500px\">\n"
      ],
      "text/plain": [
       "<IPython.core.display.HTML object>"
      ]
     },
     "execution_count": 124,
     "metadata": {},
     "output_type": "execute_result"
    }
   ],
   "source": [
    "HTML('''\n",
    "<h1 style=\"font-family:helvetica;\"> Digital Water Pavilion </h1> &emsp;\n",
    "<h3  style=\"font-family:helvetica;\"> Client: Zaragoza Expo 2008 </h3>\n",
    "<h3  style=\"font-family:helvetica;\"> Location: Spain </h3>\n",
    "<h3  style=\"font-family:helvetica;\"> Architect: Carlo Ratti Associati </h3>\n",
    "\n",
    "<img src=\"http://assets.inhabitat.com/files/dwp_3.jpg\", style=\"width:500px\">\n",
    "''')\n"
   ]
  },
  {
   "cell_type": "code",
   "execution_count": 125,
   "metadata": {
    "collapsed": false,
    "deletable": true,
    "editable": true,
    "slideshow": {
     "slide_type": "slide"
    }
   },
   "outputs": [
    {
     "data": {
      "text/html": [
       "\n",
       "<h1 style=\"font-family:helvetica;\"> Features </h1>\n",
       "\n",
       "<script>\n",
       "    function pic1()\n",
       "        {\n",
       "            document.getElementById(\"text\").innerHTML = \"<center><h2> Responsive </h2></center>\";\n",
       "            document.getElementById(\"text2\").innerHTML = \"<center><h3> Digital Water Curtain </h3></center>\";\n",
       "            document.getElementById(\"img\").src = \"../raining.gif\";\n",
       "        }\n",
       "    function pic2()\n",
       "        {\n",
       "            document.getElementById(\"text\").innerHTML = \"<center><h2> Reconfiguration </h2></center>\";\n",
       "            document.getElementById(\"text2\").innerHTML = \"<center><h3> Moving Piston </h3></center>\";\n",
       "            document.getElementById(\"img\").src =\"../movingpiston.gif\";\n",
       "        } \n",
       "</script>\n",
       "\n",
       "    <div id=\"text\"></div>\n",
       "    <div id=\"text2\"></div>\n",
       "    <img src = \"\" id = \"img\"/> \n",
       "    \n",
       "    \n",
       "    <center><input type=\"button\" value=\"Responsive\" onclick=\"pic1()\"/> \n",
       "    <input type=\"button\" value=\"Reconfiguration\" onclick=\"pic2()\"/></center>\n",
       "\n"
      ],
      "text/plain": [
       "<IPython.core.display.HTML object>"
      ]
     },
     "execution_count": 125,
     "metadata": {},
     "output_type": "execute_result"
    }
   ],
   "source": [
    "HTML('''\n",
    "<h1 style=\"font-family:helvetica;\"> Features </h1>\n",
    "\n",
    "<script>\n",
    "    function pic1()\n",
    "        {\n",
    "            document.getElementById(\"text\").innerHTML = \"<center><h2> Responsive </h2></center>\";\n",
    "            document.getElementById(\"text2\").innerHTML = \"<center><h3> Digital Water Curtain </h3></center>\";\n",
    "            document.getElementById(\"img\").src = \"../raining.gif\";\n",
    "        }\n",
    "    function pic2()\n",
    "        {\n",
    "            document.getElementById(\"text\").innerHTML = \"<center><h2> Reconfiguration </h2></center>\";\n",
    "            document.getElementById(\"text2\").innerHTML = \"<center><h3> Moving Piston </h3></center>\";\n",
    "            document.getElementById(\"img\").src =\"../movingpiston.gif\";\n",
    "        } \n",
    "</script>\n",
    "\n",
    "    <div id=\"text\"></div>\n",
    "    <div id=\"text2\"></div>\n",
    "    <img src = \"\" id = \"img\"/> \n",
    "    \n",
    "    \n",
    "    <center><input type=\"button\" value=\"Responsive\" onclick=\"pic1()\"/> \n",
    "    <input type=\"button\" value=\"Reconfiguration\" onclick=\"pic2()\"/></center>\n",
    "\n",
    "''')\n",
    "\n"
   ]
  },
  {
   "cell_type": "code",
   "execution_count": 126,
   "metadata": {
    "collapsed": false,
    "deletable": true,
    "editable": true,
    "slideshow": {
     "slide_type": "slide"
    }
   },
   "outputs": [
    {
     "data": {
      "text/html": [
       "\n",
       "\n",
       "\n",
       "<h1 style=\"font-family:helvetica;\"> Moving Element </h1>\n",
       "\n",
       "\n",
       "<p1><button onclick=\"document.getElementById('myImage').src='../original.png'\">Original Structure</button></p1>\n",
       "\n",
       "<p2><button onclick=\"document.getElementById('myImage').src='../originalmove.png'\" >Too Much Wind</button></p2>\n",
       "\n",
       "<p3><button onclick=\"document.getElementById('myImage').src='../close.png'\">Close the Pavilion</button></p3>\n",
       "\n",
       "\n",
       "<center><img id=\"myImage\" src=\"../original.png\" style=\"width:900px\"><center>\n",
       "\n",
       "\n",
       "\n",
       "</body>\n",
       "\n"
      ],
      "text/plain": [
       "<IPython.core.display.HTML object>"
      ]
     },
     "execution_count": 126,
     "metadata": {},
     "output_type": "execute_result"
    }
   ],
   "source": [
    "HTML('''\n",
    "\n",
    "\n",
    "<h1 style=\"font-family:helvetica;\"> Moving Element </h1>\n",
    "\n",
    "\n",
    "<p1><button onclick=\"document.getElementById('myImage').src='../original.png'\">Original Structure</button></p1>\n",
    "\n",
    "<p2><button onclick=\"document.getElementById('myImage').src='../originalmove.png'\" >Too Much Wind</button></p2>\n",
    "\n",
    "<p3><button onclick=\"document.getElementById('myImage').src='../close.png'\">Close the Pavilion</button></p3>\n",
    "\n",
    "\n",
    "<center><img id=\"myImage\" src=\"../original.png\" style=\"width:900px\"><center>\n",
    "\n",
    "\n",
    "\n",
    "</body>\n",
    "\n",
    "''')"
   ]
  },
  {
   "cell_type": "code",
   "execution_count": 127,
   "metadata": {
    "collapsed": false,
    "deletable": true,
    "editable": true,
    "slideshow": {
     "slide_type": "slide"
    }
   },
   "outputs": [
    {
     "data": {
      "text/html": [
       "\n",
       "<h1 style=\"font-family:helvetica;\"> Compare with Cedric Price </h1>\n",
       "<body>\n",
       "<center><h2 style=\"font-family:helvetica;\"> Fun Palace (1964) </h2></center>\n",
       "<center>\n",
       "<img src=\"http://www.interactivearchitecture.org//wp-content/uploads/2005/10/funpalace-cedric-price.jpg\" style=\"width:800px\"/>\n",
       "</center>\n",
       "<center><p3><i> \"A virtual architecture merging art and technology\" </i></p3></center>\n",
       "</body>\n"
      ],
      "text/plain": [
       "<IPython.core.display.HTML object>"
      ]
     },
     "execution_count": 127,
     "metadata": {},
     "output_type": "execute_result"
    }
   ],
   "source": [
    "HTML('''\n",
    "<h1 style=\"font-family:helvetica;\"> Compare with Cedric Price </h1>\n",
    "<body>\n",
    "<center><h2 style=\"font-family:helvetica;\"> Fun Palace (1964) </h2></center>\n",
    "<center>\n",
    "<img src=\"http://www.interactivearchitecture.org//wp-content/uploads/2005/10/funpalace-cedric-price.jpg\" style=\"width:800px\"/>\n",
    "</center>\n",
    "<center><p3><i> \"A virtual architecture merging art and technology\" </i></p3></center>\n",
    "</body>\n",
    "''')"
   ]
  },
  {
   "cell_type": "code",
   "execution_count": 128,
   "metadata": {
    "collapsed": false,
    "deletable": true,
    "editable": true,
    "slideshow": {
     "slide_type": "slide"
    }
   },
   "outputs": [
    {
     "data": {
      "text/html": [
       "\n",
       "\n",
       "    <h1 style=\"font-family:helvetica;\"> Cybernetic Principle </h1>\n",
       "    <h2> Norbert Wiener's Theory </h2>\n",
       "\n",
       "    <body>\n",
       "        <img id=\"myButton\" src=\"../wiener.png\" />\n",
       "        <script>\n",
       "            var images = ['../speech.png'],\n",
       "                i = 1;\n",
       "\n",
       "          \n",
       "            for (var j=images.length; j--;) {\n",
       "                var img = new Image();\n",
       "                img.src = images[j];\n",
       "            }\n",
       "\n",
       "            document.getElementById('myButton').addEventListener('click', function() {\n",
       "                this.src = images[i >= images.length - 1 ? i = 0 : ++i];\n",
       "            }, false);\n",
       "        </script>\n",
       "    </body>\n",
       "\n",
       "\n"
      ],
      "text/plain": [
       "<IPython.core.display.HTML object>"
      ]
     },
     "execution_count": 128,
     "metadata": {},
     "output_type": "execute_result"
    }
   ],
   "source": [
    "HTML('''\n",
    "\n",
    "    <h1 style=\"font-family:helvetica;\"> Cybernetic Principle </h1>\n",
    "    <h2> Norbert Wiener's Theory </h2>\n",
    "\n",
    "    <body>\n",
    "        <img id=\"myButton\" src=\"../wiener.png\" />\n",
    "        <script>\n",
    "            var images = ['../speech.png'],\n",
    "                i = 1;\n",
    "\n",
    "          \n",
    "            for (var j=images.length; j--;) {\n",
    "                var img = new Image();\n",
    "                img.src = images[j];\n",
    "            }\n",
    "\n",
    "            document.getElementById('myButton').addEventListener('click', function() {\n",
    "                this.src = images[i >= images.length - 1 ? i = 0 : ++i];\n",
    "            }, false);\n",
    "        </script>\n",
    "    </body>\n",
    "\n",
    "\n",
    "''')"
   ]
  },
  {
   "cell_type": "code",
   "execution_count": 129,
   "metadata": {
    "collapsed": false,
    "deletable": true,
    "editable": true,
    "slideshow": {
     "slide_type": "slide"
    }
   },
   "outputs": [
    {
     "data": {
      "text/html": [
       "\n",
       "\n",
       "\n",
       "<h1 style=\"font-family:helvetica;\"> Digital Water Curtain </h1>\n",
       "\n",
       "<body>\n",
       "\n",
       "\n",
       "<center><img id=\"rain\" src=\"../people.gif\" style=\"width:900px\"><center>\n",
       "\n",
       "\n",
       "</body>\n",
       "\n"
      ],
      "text/plain": [
       "<IPython.core.display.HTML object>"
      ]
     },
     "execution_count": 129,
     "metadata": {},
     "output_type": "execute_result"
    }
   ],
   "source": [
    "HTML('''\n",
    "\n",
    "\n",
    "<h1 style=\"font-family:helvetica;\"> Digital Water Curtain </h1>\n",
    "\n",
    "<body>\n",
    "\n",
    "\n",
    "<center><img id=\"rain\" src=\"../people.gif\" style=\"width:900px\"><center>\n",
    "\n",
    "\n",
    "</body>\n",
    "\n",
    "''')"
   ]
  },
  {
   "cell_type": "code",
   "execution_count": 130,
   "metadata": {
    "collapsed": false,
    "deletable": true,
    "editable": true,
    "slideshow": {
     "slide_type": "fragment"
    }
   },
   "outputs": [
    {
     "data": {
      "text/html": [
       "\n",
       "<center><img src=\"https://www10.aeccafe.com/blogs/arch-showcase/files/2013/09/DWP_Drawing_waterwalls_05.jpg\", style=\"width:550px;\"></center>\n"
      ],
      "text/plain": [
       "<IPython.core.display.HTML object>"
      ]
     },
     "execution_count": 130,
     "metadata": {},
     "output_type": "execute_result"
    }
   ],
   "source": [
    "HTML('''\n",
    "<center><img src=\"https://www10.aeccafe.com/blogs/arch-showcase/files/2013/09/DWP_Drawing_waterwalls_05.jpg\", style=\"width:550px;\"></center>\n",
    "''')\n"
   ]
  },
  {
   "cell_type": "code",
   "execution_count": 131,
   "metadata": {
    "collapsed": false,
    "deletable": true,
    "editable": true,
    "slideshow": {
     "slide_type": "slide"
    }
   },
   "outputs": [
    {
     "data": {
      "text/html": [
       "\n",
       "\n",
       "    <h1 style=\"font-family:helvetica;\"> How does it work </h1>\n",
       "\n",
       "\n"
      ],
      "text/plain": [
       "<IPython.core.display.HTML object>"
      ]
     },
     "execution_count": 131,
     "metadata": {},
     "output_type": "execute_result"
    }
   ],
   "source": [
    "HTML('''\n",
    "\n",
    "    <h1 style=\"font-family:helvetica;\"> How does it work </h1>\n",
    "\n",
    "\n",
    "''')"
   ]
  },
  {
   "cell_type": "code",
   "execution_count": 132,
   "metadata": {
    "collapsed": false,
    "deletable": true,
    "editable": true,
    "slideshow": {
     "slide_type": "fragment"
    }
   },
   "outputs": [
    {
     "data": {
      "text/html": [
       "<img src=\"../valve.gif\"/>"
      ],
      "text/plain": [
       "<IPython.core.display.Image object>"
      ]
     },
     "execution_count": 132,
     "metadata": {},
     "output_type": "execute_result"
    }
   ],
   "source": [
    "Image(url=\"../valve.gif\")"
   ]
  },
  {
   "cell_type": "code",
   "execution_count": 133,
   "metadata": {
    "collapsed": false,
    "deletable": true,
    "editable": true,
    "slideshow": {
     "slide_type": "slide"
    }
   },
   "outputs": [
    {
     "data": {
      "text/html": [
       "\n",
       "<h1 style=\"font-family:helvetica;\"> Compare with Greg Lynn </h1>\n",
       "<center><h2 style=\"font-family:helvetica;\"> Predator Installation </h2></center>\n",
       "<center>\n",
       "<img src=\"../predator.jpg\" style=\"width:700px\"/>\n",
       "</center>\n"
      ],
      "text/plain": [
       "<IPython.core.display.HTML object>"
      ]
     },
     "execution_count": 133,
     "metadata": {},
     "output_type": "execute_result"
    }
   ],
   "source": [
    "HTML('''\n",
    "<h1 style=\"font-family:helvetica;\"> Compare with Greg Lynn </h1>\n",
    "<center><h2 style=\"font-family:helvetica;\"> Predator Installation </h2></center>\n",
    "<center>\n",
    "<img src=\"../predator.jpg\" style=\"width:700px\"/>\n",
    "</center>\n",
    "''')"
   ]
  },
  {
   "cell_type": "code",
   "execution_count": 134,
   "metadata": {
    "collapsed": false,
    "deletable": true,
    "editable": true,
    "slideshow": {
     "slide_type": "slide"
    }
   },
   "outputs": [
    {
     "data": {
      "text/html": [
       "\n",
       "<h1 style=\"font-family:helvetica;\"> Hypersurface </h1>\n",
       "<h2 style=\"font-family:helvetica;\"> Antoine Picon </h2>\n",
       "<img src=\"../speechpicon.png\">\n"
      ],
      "text/plain": [
       "<IPython.core.display.HTML object>"
      ]
     },
     "execution_count": 134,
     "metadata": {},
     "output_type": "execute_result"
    }
   ],
   "source": [
    "HTML('''\n",
    "<h1 style=\"font-family:helvetica;\"> Hypersurface </h1>\n",
    "<h2 style=\"font-family:helvetica;\"> Antoine Picon </h2>\n",
    "<img src=\"../speechpicon.png\">\n",
    "''')"
   ]
  },
  {
   "cell_type": "code",
   "execution_count": 135,
   "metadata": {
    "collapsed": false,
    "deletable": true,
    "editable": true,
    "slideshow": {
     "slide_type": "slide"
    }
   },
   "outputs": [
    {
     "data": {
      "text/html": [
       "\n",
       "<h1 style=\"font-family:helvetica;\"> Conclusion </h1>\n"
      ],
      "text/plain": [
       "<IPython.core.display.HTML object>"
      ]
     },
     "execution_count": 135,
     "metadata": {},
     "output_type": "execute_result"
    }
   ],
   "source": [
    "HTML('''\n",
    "<h1 style=\"font-family:helvetica;\"> Conclusion </h1>\n",
    "''')\n"
   ]
  },
  {
   "cell_type": "code",
   "execution_count": 136,
   "metadata": {
    "collapsed": false,
    "deletable": true,
    "editable": true,
    "slideshow": {
     "slide_type": "fragment"
    }
   },
   "outputs": [
    {
     "data": {
      "text/html": [
       "<img src=\"../conclusion.gif\" width=\"2000\" height=\"200\"/>"
      ],
      "text/plain": [
       "<IPython.core.display.Image object>"
      ]
     },
     "execution_count": 136,
     "metadata": {},
     "output_type": "execute_result"
    }
   ],
   "source": [
    "Image(url= \"../conclusion.gif\", width=2000, height=200)"
   ]
  },
  {
   "cell_type": "code",
   "execution_count": 137,
   "metadata": {
    "collapsed": false,
    "deletable": true,
    "editable": true,
    "slideshow": {
     "slide_type": "slide"
    }
   },
   "outputs": [
    {
     "data": {
      "text/html": [
       "<script>\n",
       "  function code_toggle() {\n",
       "    if (code_shown){\n",
       "      $('div.input').hide('500');\n",
       "      $('#toggleButton').val('Show Code')\n",
       "    } else {\n",
       "      $('div.input').show('500');\n",
       "      $('#toggleButton').val('Hide Code')\n",
       "    }\n",
       "    code_shown = !code_shown\n",
       "  }\n",
       "\n",
       "  $( document ).ready(function(){\n",
       "    code_shown=false;\n",
       "    $('div.input').hide()\n",
       "    $('div.prompt').hide();\n",
       "    $('div.back-to-top').hide();\n",
       "    $('nav#menubar').hide();\n",
       "    $('.breadcrumb').hide();\n",
       "    $('.hidden-print').hide();\n",
       "  });\n",
       "</script>\n",
       "<form action=\"javascript:code_toggle()\"><input type=\"submit\" id=\"toggleButton\" value=\"Show Code\"></form>"
      ],
      "text/plain": [
       "<IPython.core.display.HTML object>"
      ]
     },
     "execution_count": 137,
     "metadata": {},
     "output_type": "execute_result"
    }
   ],
   "source": [
    "HTML('''<script>\n",
    "  function code_toggle() {\n",
    "    if (code_shown){\n",
    "      $('div.input').hide('500');\n",
    "      $('#toggleButton').val('Show Code')\n",
    "    } else {\n",
    "      $('div.input').show('500');\n",
    "      $('#toggleButton').val('Hide Code')\n",
    "    }\n",
    "    code_shown = !code_shown\n",
    "  }\n",
    "\n",
    "  $( document ).ready(function(){\n",
    "    code_shown=false;\n",
    "    $('div.input').hide()\n",
    "    $('div.prompt').hide();\n",
    "    $('div.back-to-top').hide();\n",
    "    $('nav#menubar').hide();\n",
    "    $('.breadcrumb').hide();\n",
    "    $('.hidden-print').hide();\n",
    "  });\n",
    "</script>\n",
    "<form action=\"javascript:code_toggle()\"><input type=\"submit\" id=\"toggleButton\" value=\"Show Code\"></form>''')"
   ]
  }
 ],
 "metadata": {
  "celltoolbar": "Slideshow",
  "kernelspec": {
   "display_name": "Python 2",
   "language": "python",
   "name": "python2"
  },
  "language_info": {
   "codemirror_mode": {
    "name": "ipython",
    "version": 2
   },
   "file_extension": ".py",
   "mimetype": "text/x-python",
   "name": "python",
   "nbconvert_exporter": "python",
   "pygments_lexer": "ipython2",
   "version": "2.7.12"
  }
 },
 "nbformat": 4,
 "nbformat_minor": 2
}
