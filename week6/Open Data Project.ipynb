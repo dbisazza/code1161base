{
 "cells": [
  {
   "cell_type": "code",
   "execution_count": 1,
   "metadata": {
    "collapsed": true,
    "deletable": true,
    "editable": true
   },
   "outputs": [],
   "source": [
    "import matplotlib\n",
    "import matplotlib.pyplot as plt\n",
    "import numpy as np\n",
    "import pandas as pd\n",
    "import os"
   ]
  },
  {
   "cell_type": "code",
   "execution_count": 2,
   "metadata": {
    "collapsed": true,
    "deletable": true,
    "editable": true
   },
   "outputs": [],
   "source": [
    "%matplotlib inline\n",
    "plt.rcParams['figure.figsize'] = (20, 10)"
   ]
  },
  {
   "cell_type": "code",
   "execution_count": 3,
   "metadata": {
    "collapsed": true,
    "deletable": true,
    "editable": true
   },
   "outputs": [],
   "source": [
    "saved_style_state = matplotlib.rcParams.copy()"
   ]
  },
  {
   "cell_type": "code",
   "execution_count": 4,
   "metadata": {
    "collapsed": false,
    "deletable": true,
    "editable": true
   },
   "outputs": [
    {
     "name": "stdout",
     "output_type": "stream",
     "text": [
      "loading from the internet\n",
      "done\n"
     ]
    }
   ],
   "source": [
    "if os.path.isfile(\"rci-offencebymonth.csv\"):\n",
    "    filepath = \"rci-offencebymonth.csv\"\n",
    "    print \"loading from file\"\n",
    "else:\n",
    "    filepath = \"http://data.gov.au/storage/f/2013-09-12T23%3A32%3A36.918Z/rci-offencebymonth.csv\"\n",
    "    print \"loading from the internet\"\n",
    "\n",
    "crime_data = pd.read_csv(filepath)\n",
    "print \"done\""
   ]
  },
  {
   "cell_type": "code",
   "execution_count": 5,
   "metadata": {
    "collapsed": false,
    "deletable": true,
    "editable": true
   },
   "outputs": [
    {
     "data": {
      "text/html": [
       "<div>\n",
       "<style>\n",
       "    .dataframe thead tr:only-child th {\n",
       "        text-align: right;\n",
       "    }\n",
       "\n",
       "    .dataframe thead th {\n",
       "        text-align: left;\n",
       "    }\n",
       "\n",
       "    .dataframe tbody tr th {\n",
       "        vertical-align: top;\n",
       "    }\n",
       "</style>\n",
       "<table border=\"1\" class=\"dataframe\">\n",
       "  <thead>\n",
       "    <tr style=\"text-align: right;\">\n",
       "      <th></th>\n",
       "      <th>Statistical Division or Subdivision</th>\n",
       "      <th>LGA</th>\n",
       "      <th>Offence category</th>\n",
       "      <th>Subcategory</th>\n",
       "      <th>Jan 1995</th>\n",
       "      <th>Feb 1995</th>\n",
       "      <th>Mar 1995</th>\n",
       "      <th>Apr 1995</th>\n",
       "      <th>May 1995</th>\n",
       "      <th>Jun 1995</th>\n",
       "      <th>...</th>\n",
       "      <th>Mar 2012</th>\n",
       "      <th>Apr 2012</th>\n",
       "      <th>May 2012</th>\n",
       "      <th>Jun 2012</th>\n",
       "      <th>Jul 2012</th>\n",
       "      <th>Aug 2012</th>\n",
       "      <th>Sep 2012</th>\n",
       "      <th>Oct 2012</th>\n",
       "      <th>Nov 2012</th>\n",
       "      <th>Dec 2012</th>\n",
       "    </tr>\n",
       "  </thead>\n",
       "  <tbody>\n",
       "    <tr>\n",
       "      <th>0</th>\n",
       "      <td>Inner Sydney</td>\n",
       "      <td>Botany Bay</td>\n",
       "      <td>Homicide</td>\n",
       "      <td>Murder (a)</td>\n",
       "      <td>0.0</td>\n",
       "      <td>0.0</td>\n",
       "      <td>0.0</td>\n",
       "      <td>0.0</td>\n",
       "      <td>0.0</td>\n",
       "      <td>0.0</td>\n",
       "      <td>...</td>\n",
       "      <td>0.0</td>\n",
       "      <td>0.0</td>\n",
       "      <td>0.0</td>\n",
       "      <td>0.0</td>\n",
       "      <td>0.0</td>\n",
       "      <td>0.0</td>\n",
       "      <td>0.0</td>\n",
       "      <td>0.0</td>\n",
       "      <td>0.0</td>\n",
       "      <td>0.0</td>\n",
       "    </tr>\n",
       "    <tr>\n",
       "      <th>1</th>\n",
       "      <td>Inner Sydney</td>\n",
       "      <td>Botany Bay</td>\n",
       "      <td>Homicide</td>\n",
       "      <td>Attempted murder</td>\n",
       "      <td>0.0</td>\n",
       "      <td>0.0</td>\n",
       "      <td>0.0</td>\n",
       "      <td>0.0</td>\n",
       "      <td>0.0</td>\n",
       "      <td>0.0</td>\n",
       "      <td>...</td>\n",
       "      <td>0.0</td>\n",
       "      <td>0.0</td>\n",
       "      <td>0.0</td>\n",
       "      <td>1.0</td>\n",
       "      <td>0.0</td>\n",
       "      <td>0.0</td>\n",
       "      <td>0.0</td>\n",
       "      <td>0.0</td>\n",
       "      <td>0.0</td>\n",
       "      <td>0.0</td>\n",
       "    </tr>\n",
       "    <tr>\n",
       "      <th>2</th>\n",
       "      <td>Inner Sydney</td>\n",
       "      <td>Botany Bay</td>\n",
       "      <td>Homicide</td>\n",
       "      <td>Murder accessory, conspiracy</td>\n",
       "      <td>0.0</td>\n",
       "      <td>0.0</td>\n",
       "      <td>0.0</td>\n",
       "      <td>0.0</td>\n",
       "      <td>0.0</td>\n",
       "      <td>0.0</td>\n",
       "      <td>...</td>\n",
       "      <td>0.0</td>\n",
       "      <td>0.0</td>\n",
       "      <td>0.0</td>\n",
       "      <td>0.0</td>\n",
       "      <td>0.0</td>\n",
       "      <td>0.0</td>\n",
       "      <td>0.0</td>\n",
       "      <td>0.0</td>\n",
       "      <td>0.0</td>\n",
       "      <td>0.0</td>\n",
       "    </tr>\n",
       "    <tr>\n",
       "      <th>3</th>\n",
       "      <td>Inner Sydney</td>\n",
       "      <td>Botany Bay</td>\n",
       "      <td>Homicide</td>\n",
       "      <td>Manslaughter (a)</td>\n",
       "      <td>0.0</td>\n",
       "      <td>0.0</td>\n",
       "      <td>0.0</td>\n",
       "      <td>0.0</td>\n",
       "      <td>0.0</td>\n",
       "      <td>0.0</td>\n",
       "      <td>...</td>\n",
       "      <td>0.0</td>\n",
       "      <td>0.0</td>\n",
       "      <td>0.0</td>\n",
       "      <td>0.0</td>\n",
       "      <td>0.0</td>\n",
       "      <td>0.0</td>\n",
       "      <td>0.0</td>\n",
       "      <td>0.0</td>\n",
       "      <td>0.0</td>\n",
       "      <td>0.0</td>\n",
       "    </tr>\n",
       "    <tr>\n",
       "      <th>4</th>\n",
       "      <td>Inner Sydney</td>\n",
       "      <td>Botany Bay</td>\n",
       "      <td>Assault</td>\n",
       "      <td>Domestic violence related assault</td>\n",
       "      <td>3.0</td>\n",
       "      <td>7.0</td>\n",
       "      <td>5.0</td>\n",
       "      <td>1.0</td>\n",
       "      <td>3.0</td>\n",
       "      <td>4.0</td>\n",
       "      <td>...</td>\n",
       "      <td>17.0</td>\n",
       "      <td>9.0</td>\n",
       "      <td>16.0</td>\n",
       "      <td>10.0</td>\n",
       "      <td>8.0</td>\n",
       "      <td>6.0</td>\n",
       "      <td>11.0</td>\n",
       "      <td>11.0</td>\n",
       "      <td>14.0</td>\n",
       "      <td>20.0</td>\n",
       "    </tr>\n",
       "  </tbody>\n",
       "</table>\n",
       "<p>5 rows × 220 columns</p>\n",
       "</div>"
      ],
      "text/plain": [
       "  Statistical Division or Subdivision         LGA Offence category  \\\n",
       "0                        Inner Sydney  Botany Bay         Homicide   \n",
       "1                        Inner Sydney  Botany Bay         Homicide   \n",
       "2                        Inner Sydney  Botany Bay         Homicide   \n",
       "3                        Inner Sydney  Botany Bay         Homicide   \n",
       "4                        Inner Sydney  Botany Bay          Assault   \n",
       "\n",
       "                         Subcategory  Jan 1995  Feb 1995  Mar 1995  Apr 1995  \\\n",
       "0                         Murder (a)       0.0       0.0       0.0       0.0   \n",
       "1                   Attempted murder       0.0       0.0       0.0       0.0   \n",
       "2       Murder accessory, conspiracy       0.0       0.0       0.0       0.0   \n",
       "3                   Manslaughter (a)       0.0       0.0       0.0       0.0   \n",
       "4  Domestic violence related assault       3.0       7.0       5.0       1.0   \n",
       "\n",
       "   May 1995  Jun 1995    ...     Mar 2012  Apr 2012  May 2012  Jun 2012  \\\n",
       "0       0.0       0.0    ...          0.0       0.0       0.0       0.0   \n",
       "1       0.0       0.0    ...          0.0       0.0       0.0       1.0   \n",
       "2       0.0       0.0    ...          0.0       0.0       0.0       0.0   \n",
       "3       0.0       0.0    ...          0.0       0.0       0.0       0.0   \n",
       "4       3.0       4.0    ...         17.0       9.0      16.0      10.0   \n",
       "\n",
       "   Jul 2012  Aug 2012  Sep 2012  Oct 2012  Nov 2012  Dec 2012  \n",
       "0       0.0       0.0       0.0       0.0       0.0       0.0  \n",
       "1       0.0       0.0       0.0       0.0       0.0       0.0  \n",
       "2       0.0       0.0       0.0       0.0       0.0       0.0  \n",
       "3       0.0       0.0       0.0       0.0       0.0       0.0  \n",
       "4       8.0       6.0      11.0      11.0      14.0      20.0  \n",
       "\n",
       "[5 rows x 220 columns]"
      ]
     },
     "execution_count": 5,
     "metadata": {},
     "output_type": "execute_result"
    }
   ],
   "source": [
    "crime_data.head()"
   ]
  },
  {
   "cell_type": "code",
   "execution_count": 6,
   "metadata": {
    "collapsed": false
   },
   "outputs": [
    {
     "data": {
      "text/plain": [
       "Index([u'Statistical Division or Subdivision', u'LGA', u'Offence category',\n",
       "       u'Subcategory', u'Jan 1995', u'Feb 1995', u'Mar 1995', u'Apr 1995',\n",
       "       u'May 1995', u'Jun 1995',\n",
       "       ...\n",
       "       u'Mar 2012', u'Apr 2012', u'May 2012', u'Jun 2012', u'Jul 2012',\n",
       "       u'Aug 2012', u'Sep 2012', u'Oct 2012', u'Nov 2012', u'Dec 2012'],\n",
       "      dtype='object', length=220)"
      ]
     },
     "execution_count": 6,
     "metadata": {},
     "output_type": "execute_result"
    }
   ],
   "source": [
    "crime_data.columns"
   ]
  },
  {
   "cell_type": "code",
   "execution_count": 8,
   "metadata": {
    "collapsed": false
   },
   "outputs": [
    {
     "data": {
      "text/plain": [
       "Statistical Division or Subdivision        Inner Sydney\n",
       "LGA                                          Botany Bay\n",
       "Offence category                               Homicide\n",
       "Subcategory                            Attempted murder\n",
       "Jan 1995                                              0\n",
       "Feb 1995                                              0\n",
       "Mar 1995                                              0\n",
       "Apr 1995                                              0\n",
       "May 1995                                              0\n",
       "Jun 1995                                              0\n",
       "Jul 1995                                              0\n",
       "Aug 1995                                              0\n",
       "Sep 1995                                              0\n",
       "Oct 1995                                              0\n",
       "Nov 1995                                              0\n",
       "Dec 1995                                              0\n",
       "Jan 1996                                              0\n",
       "Feb 1996                                              0\n",
       "Mar 1996                                              0\n",
       "Apr 1996                                              0\n",
       "May 1996                                              0\n",
       "Jun 1996                                              0\n",
       "Jul 1996                                              0\n",
       "Aug 1996                                              0\n",
       "Sep 1996                                              0\n",
       "Oct 1996                                              0\n",
       "Nov 1996                                              0\n",
       "Dec 1996                                              0\n",
       "Jan 1997                                              0\n",
       "Feb 1997                                              0\n",
       "                                             ...       \n",
       "Jul 2010                                              0\n",
       "Aug 2010                                              0\n",
       "Sep 2010                                              0\n",
       "Oct 2010                                              0\n",
       "Nov 2010                                              0\n",
       "Dec 2010                                              0\n",
       "Jan 2011                                              0\n",
       "Feb 2011                                              0\n",
       "Mar 2011                                              0\n",
       "Apr 2011                                              0\n",
       "May 2011                                              0\n",
       "Jun 2011                                              0\n",
       "Jul 2011                                              0\n",
       "Aug 2011                                              0\n",
       "Sep 2011                                              0\n",
       "Oct 2011                                              0\n",
       "Nov 2011                                              0\n",
       "Dec 2011                                              0\n",
       "Jan 2012                                              0\n",
       "Feb 2012                                              0\n",
       "Mar 2012                                              0\n",
       "Apr 2012                                              0\n",
       "May 2012                                              0\n",
       "Jun 2012                                              1\n",
       "Jul 2012                                              0\n",
       "Aug 2012                                              0\n",
       "Sep 2012                                              0\n",
       "Oct 2012                                              0\n",
       "Nov 2012                                              0\n",
       "Dec 2012                                              0\n",
       "Name: 1, Length: 220, dtype: object"
      ]
     },
     "execution_count": 8,
     "metadata": {},
     "output_type": "execute_result"
    }
   ],
   "source": [
    "row_one = crime_data.iloc[1]\n",
    "row_one"
   ]
  },
  {
   "cell_type": "code",
   "execution_count": null,
   "metadata": {
    "collapsed": true
   },
   "outputs": [],
   "source": [
    "row_one[\"OFFENCE_DESC\"]"
   ]
  }
 ],
 "metadata": {
  "kernelspec": {
   "display_name": "Python 2",
   "language": "python",
   "name": "python2"
  },
  "language_info": {
   "codemirror_mode": {
    "name": "ipython",
    "version": 2
   },
   "file_extension": ".py",
   "mimetype": "text/x-python",
   "name": "python",
   "nbconvert_exporter": "python",
   "pygments_lexer": "ipython2",
   "version": "2.7.12"
  }
 },
 "nbformat": 4,
 "nbformat_minor": 2
}
